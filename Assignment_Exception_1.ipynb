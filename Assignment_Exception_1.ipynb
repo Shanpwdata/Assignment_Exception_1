{
 "cells": [
  {
   "cell_type": "markdown",
   "id": "edda9275-5588-4d73-b21c-f8bd9e56f182",
   "metadata": {},
   "source": [
    "Q1. What is an Exception in python? Write the difference between Exceptions and Syantax errors?"
   ]
  },
  {
   "cell_type": "markdown",
   "id": "a9a359f4-f533-4f52-adb9-2b411db8373a",
   "metadata": {},
   "source": [
    "#Ans_1.\n",
    "An Exception is an error that happens during the execution of a program. Whenever there is an error, Python generates an exception that could be handled by using try and except statements."
   ]
  },
  {
   "cell_type": "code",
   "execution_count": 1,
   "id": "f887351c-3a4c-4dca-b897-2a24b76f54c7",
   "metadata": {},
   "outputs": [],
   "source": [
    "#Example of Exception:-\n",
    "def test(n):\n",
    "    try:\n",
    "        return 12/n\n",
    "    except Exception as e:\n",
    "        print(e)    "
   ]
  },
  {
   "cell_type": "code",
   "execution_count": 2,
   "id": "6f39d255-6c1e-4eea-971c-bf045b8106da",
   "metadata": {},
   "outputs": [
    {
     "name": "stdout",
     "output_type": "stream",
     "text": [
      "division by zero\n"
     ]
    }
   ],
   "source": [
    "test(0)"
   ]
  },
  {
   "cell_type": "markdown",
   "id": "72b9c8bd-bc1e-4eb8-ba4a-a05b56a94285",
   "metadata": {},
   "source": [
    "SyntaxError: This exception is raised when the interpreter encounters a syntax error in the code, such as a misspelled keyword, a missing colon, or an unbalanced parenthesis."
   ]
  },
  {
   "cell_type": "code",
   "execution_count": 3,
   "id": "e82355bf-893b-463f-82c0-691ed72a3749",
   "metadata": {},
   "outputs": [],
   "source": [
    "#example of syantax error:-"
   ]
  },
  {
   "cell_type": "code",
   "execution_count": 4,
   "id": "308f0074-0a15-423f-8779-2b6f970b1953",
   "metadata": {},
   "outputs": [
    {
     "ename": "SyntaxError",
     "evalue": "unterminated string literal (detected at line 2) (3017834949.py, line 2)",
     "output_type": "error",
     "traceback": [
      "\u001b[0;36m  Cell \u001b[0;32mIn[4], line 2\u001b[0;36m\u001b[0m\n\u001b[0;31m    print(\"my name is shantam) ####when the written syantax is incomplete or wrong.\u001b[0m\n\u001b[0m          ^\u001b[0m\n\u001b[0;31mSyntaxError\u001b[0m\u001b[0;31m:\u001b[0m unterminated string literal (detected at line 2)\n"
     ]
    }
   ],
   "source": [
    "try:\n",
    "    print(\"my name is shantam) ####when the written syantax is incomplete or wrong.\n",
    "except Exception as e:\n",
    "    print(e)"
   ]
  },
  {
   "cell_type": "markdown",
   "id": "e03e41b0-9c24-40d9-89aa-7116f072c3a1",
   "metadata": {},
   "source": [
    "Exception: In Exception when the written code is correct but as per program which error has to be produces by user while excution of program."
   ]
  },
  {
   "cell_type": "code",
   "execution_count": 5,
   "id": "e3d2ae19-a0f4-45e9-83dd-e55fbc1b8dfc",
   "metadata": {},
   "outputs": [
    {
     "name": "stdout",
     "output_type": "stream",
     "text": [
      "invalid literal for int() with base 10: 'shantam'\n"
     ]
    }
   ],
   "source": [
    "try:\n",
    "    int(\"shantam\")\n",
    "except Exception as e:\n",
    "    print(e)"
   ]
  },
  {
   "cell_type": "markdown",
   "id": "eef3e721-063d-49ef-800e-0a797d73497b",
   "metadata": {},
   "source": [
    "Q2. What happens when an exception is not handled? Explain with an example."
   ]
  },
  {
   "cell_type": "markdown",
   "id": "b1ff12be-7b5a-493e-89ec-5f3e881286c5",
   "metadata": {},
   "source": [
    "#Ans_2. When an exception occurred, the program terminates abruptly and the code past the line that caused the exception will not get executed."
   ]
  },
  {
   "cell_type": "code",
   "execution_count": 6,
   "id": "cb4c7bab-e2f4-40d4-81e4-8df769ee39c5",
   "metadata": {},
   "outputs": [
    {
     "ename": "ZeroDivisionError",
     "evalue": "division by zero",
     "output_type": "error",
     "traceback": [
      "\u001b[0;31m---------------------------------------------------------------------------\u001b[0m",
      "\u001b[0;31mZeroDivisionError\u001b[0m                         Traceback (most recent call last)",
      "Cell \u001b[0;32mIn[6], line 9\u001b[0m\n\u001b[1;32m      7\u001b[0m test(\u001b[38;5;241m12\u001b[39m)\n\u001b[1;32m      8\u001b[0m test(\u001b[38;5;241m2\u001b[39m)\n\u001b[0;32m----> 9\u001b[0m \u001b[43mtest\u001b[49m\u001b[43m(\u001b[49m\u001b[38;5;241;43m0\u001b[39;49m\u001b[43m)\u001b[49m\n\u001b[1;32m     10\u001b[0m test(\u001b[38;5;241m1\u001b[39m)\n",
      "Cell \u001b[0;32mIn[6], line 4\u001b[0m, in \u001b[0;36mtest\u001b[0;34m(n)\u001b[0m\n\u001b[1;32m      2\u001b[0m \u001b[38;5;28;01mdef\u001b[39;00m \u001b[38;5;21mtest\u001b[39m(n):\n\u001b[1;32m      3\u001b[0m     \u001b[38;5;66;03m#try:\u001b[39;00m\n\u001b[0;32m----> 4\u001b[0m         \u001b[38;5;28;01mreturn\u001b[39;00m (\u001b[38;5;241;43m12\u001b[39;49m\u001b[38;5;241;43m/\u001b[39;49m\u001b[43mn\u001b[49m)\n",
      "\u001b[0;31mZeroDivisionError\u001b[0m: division by zero"
     ]
    }
   ],
   "source": [
    "#Example:-\n",
    "def test(n):\n",
    "    #try:\n",
    "        return (12/n)\n",
    "    #except ZeroDivisionError as e:\n",
    "        #print(e)    \n",
    "test(12)\n",
    "test(2)\n",
    "test(0)\n",
    "test(1)"
   ]
  },
  {
   "cell_type": "markdown",
   "id": "ad651d98-26cc-4a3d-89f0-ff9ad6fb3146",
   "metadata": {},
   "source": [
    "Q3. Which Python statements are used to catch and handle exceptions? Explain with an example."
   ]
  },
  {
   "cell_type": "markdown",
   "id": "01fa7444-6583-40f4-a067-632e177f4dde",
   "metadata": {},
   "source": [
    "#Ans _3. \n",
    "In python try and except block is used to catch and handle the exception."
   ]
  },
  {
   "cell_type": "code",
   "execution_count": 7,
   "id": "75b35e55-8058-4c1c-b106-7b93e45e698c",
   "metadata": {},
   "outputs": [
    {
     "name": "stdout",
     "output_type": "stream",
     "text": [
      "[Errno 2] No such file or directory: 'test5.txt'\n"
     ]
    }
   ],
   "source": [
    "#Example:-\n",
    "try:\n",
    "    with open(\"test5.txt\",\"r\") as f:\n",
    "        f.read()\n",
    "except FileNotFoundError  as e:\n",
    "    print(e)"
   ]
  },
  {
   "cell_type": "markdown",
   "id": "9d74a861-dbda-4598-806d-9e4a641cb701",
   "metadata": {},
   "source": [
    "Q4. Explain with an example:\n",
    "try and else\n",
    "finally\n",
    "raise"
   ]
  },
  {
   "cell_type": "code",
   "execution_count": 8,
   "id": "0a30327d-0cb5-42e6-b4b6-5428b57974b1",
   "metadata": {},
   "outputs": [
    {
     "name": "stdin",
     "output_type": "stream",
     "text": [
      "enter your Age:- -23\n"
     ]
    },
    {
     "name": "stdout",
     "output_type": "stream",
     "text": [
      "Enter the valid age\n",
      "This fumnction is standard\n"
     ]
    }
   ],
   "source": [
    "#Ans_4.\n",
    "try:\n",
    "    age = int(input(\"enter your Age:-\"))\n",
    "    \n",
    "    if age <0:\n",
    "        raise Exception(\"entered age is negative\")\n",
    "except:\n",
    "    print(\"Enter the valid age\")\n",
    "else:\n",
    "    print(\"valid age\")\n",
    "finally :\n",
    "    print(\"This fumnction is standard\")"
   ]
  },
  {
   "cell_type": "markdown",
   "id": "495faaa8-90ec-49c4-ad3f-0a8aa6565520",
   "metadata": {},
   "source": [
    "Q5. What are Custom Exceptions in python? Why do we need Custom Exceptions? Explain with an example."
   ]
  },
  {
   "cell_type": "markdown",
   "id": "e251da17-6f6a-4a9e-b396-a726ad0bc147",
   "metadata": {},
   "source": [
    "#Ans_5. Custom Exception in pyhton , the exception or error generated by user defined, and we need the because in python program was correct but in general it is not able to full fill the requirement of the program,\n",
    "Example:-"
   ]
  },
  {
   "cell_type": "code",
   "execution_count": 21,
   "id": "8a472bc6-e27d-433b-8923-75a3f77a5fca",
   "metadata": {},
   "outputs": [],
   "source": [
    "def validage_sys(age):\n",
    "    if age < 0:\n",
    "        raise validage(\"entered age is negative\")\n",
    "    elif age > 200:\n",
    "        raise validage(\"entered age is too high\")\n",
    "    else :\n",
    "        print(\"entered valid age\")  "
   ]
  },
  {
   "cell_type": "code",
   "execution_count": 20,
   "id": "f8295972-a230-43dc-8a14-cba011b9d48c",
   "metadata": {},
   "outputs": [
    {
     "name": "stdin",
     "output_type": "stream",
     "text": [
      "enter your Age:- -25\n"
     ]
    },
    {
     "name": "stdout",
     "output_type": "stream",
     "text": [
      "Age shound not be in negative\n",
      "Standard age system\n"
     ]
    }
   ],
   "source": [
    "try:\n",
    "    age = int(input(\"enter your Age:-\")) \n",
    "    validage_sys(age)\n",
    "except Exception as e:\n",
    "    print(e)\n",
    "finally:\n",
    "    print(\"Standard age system\")"
   ]
  },
  {
   "cell_type": "markdown",
   "id": "b45a53aa-9d9d-40a5-aff0-f3b604f43889",
   "metadata": {},
   "source": [
    "Q6. Create custom exception class. Use this class to handle an exception."
   ]
  },
  {
   "cell_type": "code",
   "execution_count": 25,
   "id": "5999260d-826a-47f8-93f3-1df2a16582f2",
   "metadata": {},
   "outputs": [],
   "source": [
    "class validage(Exception):\n",
    "    def __init__(self, msg):\n",
    "        self.msg = msg  \n",
    "def validage_sys(age):\n",
    "    if age < 0:\n",
    "        raise validage(\"entered age is negative\")\n",
    "    elif age > 200:\n",
    "        raise validage(\"entered age is too high\")\n",
    "    else :\n",
    "        print(\"entered valid age\") \n"
   ]
  },
  {
   "cell_type": "code",
   "execution_count": 27,
   "id": "03bc1008-7a0f-44c2-8202-a12585160291",
   "metadata": {},
   "outputs": [
    {
     "name": "stdin",
     "output_type": "stream",
     "text": [
      "enter your Age:- 2225\n"
     ]
    },
    {
     "name": "stdout",
     "output_type": "stream",
     "text": [
      "entered age is too high\n",
      "Standard age system\n"
     ]
    }
   ],
   "source": [
    "try:\n",
    "    age = int(input(\"enter your Age:-\")) \n",
    "    validage_sys(age)\n",
    "except Exception as e:\n",
    "    print(e)\n",
    "finally:\n",
    "    print(\"Standard age system\")        "
   ]
  },
  {
   "cell_type": "code",
   "execution_count": null,
   "id": "974dbbd6-1645-4b85-a6fe-846d6fd588ae",
   "metadata": {},
   "outputs": [],
   "source": []
  }
 ],
 "metadata": {
  "kernelspec": {
   "display_name": "Python 3 (ipykernel)",
   "language": "python",
   "name": "python3"
  },
  "language_info": {
   "codemirror_mode": {
    "name": "ipython",
    "version": 3
   },
   "file_extension": ".py",
   "mimetype": "text/x-python",
   "name": "python",
   "nbconvert_exporter": "python",
   "pygments_lexer": "ipython3",
   "version": "3.10.8"
  }
 },
 "nbformat": 4,
 "nbformat_minor": 5
}
